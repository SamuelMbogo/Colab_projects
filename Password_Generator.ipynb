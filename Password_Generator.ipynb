{
  "nbformat": 4,
  "nbformat_minor": 0,
  "metadata": {
    "colab": {
      "name": "Password Generator",
      "provenance": [],
      "authorship_tag": "ABX9TyMR3ScACrxtt32UzYggRL01",
      "include_colab_link": true
    },
    "kernelspec": {
      "name": "python3",
      "display_name": "Python 3"
    },
    "language_info": {
      "name": "python"
    }
  },
  "cells": [
    {
      "cell_type": "markdown",
      "metadata": {
        "id": "view-in-github",
        "colab_type": "text"
      },
      "source": [
        "<a href=\"https://colab.research.google.com/github/SmoothOperator7/Colab_projects/blob/main/Password_Generator.ipynb\" target=\"_parent\"><img src=\"https://colab.research.google.com/assets/colab-badge.svg\" alt=\"Open In Colab\"/></a>"
      ]
    },
    {
      "cell_type": "code",
      "execution_count": 26,
      "metadata": {
        "id": "gtS0E3sY0FlG"
      },
      "outputs": [],
      "source": [
        "import random #to shuffle the composition of the password\n",
        "import string # contains all characters that the password is composed of\n",
        "\n",
        "#the length of the password\n",
        "length = 16\n",
        "\n",
        "#detailed breakdown of what the password will be composed of\n",
        "lower = string.ascii_lowercase\n",
        "upper = string.ascii_uppercase\n",
        "numbers = string.digits\n",
        "symbols = string.punctuation\n",
        "\n",
        "#to show what the password should consist of\n",
        "all = list(lower+upper+numbers+symbols)\n",
        "\n",
        "# Function that generates password\n",
        "def get_password():\n",
        "  random.shuffle(all)\n",
        "  for i in range(length):\n",
        "    random.choice(all)\n",
        "  # random.sample accepts 2 inputs: the population from which samples will be drawn and the length of the password\n",
        "  password = ''.join(random.sample(all,length))\n",
        "  print(password)"
      ]
    },
    {
      "cell_type": "code",
      "source": [
        "get_password()"
      ],
      "metadata": {
        "colab": {
          "base_uri": "https://localhost:8080/"
        },
        "id": "5whcIFrhr89g",
        "outputId": "6b4232e5-6c1e-4726-9783-87f494663a69"
      },
      "execution_count": 27,
      "outputs": [
        {
          "output_type": "stream",
          "name": "stdout",
          "text": [
            "y#)k8z@5WwqCT=;9\n"
          ]
        }
      ]
    },
    {
      "cell_type": "code",
      "source": [
        "get_password()"
      ],
      "metadata": {
        "colab": {
          "base_uri": "https://localhost:8080/"
        },
        "id": "-CvaQ5_fsc29",
        "outputId": "e67a687b-dccf-4de0-b9d7-143af0b3085e"
      },
      "execution_count": 28,
      "outputs": [
        {
          "output_type": "stream",
          "name": "stdout",
          "text": [
            "8R,:r&;[VpsbM+9<\n"
          ]
        }
      ]
    },
    {
      "cell_type": "code",
      "source": [
        ""
      ],
      "metadata": {
        "id": "o7Ud9qY_sf0j"
      },
      "execution_count": null,
      "outputs": []
    }
  ]
}